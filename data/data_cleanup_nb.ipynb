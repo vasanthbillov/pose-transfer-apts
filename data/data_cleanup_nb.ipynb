{
 "cells": [
  {
   "cell_type": "code",
   "execution_count": 12,
   "id": "afe42773-03b1-43be-aae4-dea869de311f",
   "metadata": {
    "tags": []
   },
   "outputs": [],
   "source": [
    "import numpy as np\n",
    "import os\n",
    "import pandas as pd\n",
    "from pathlib import PureWindowsPath, PurePosixPath,Path"
   ]
  },
  {
   "cell_type": "code",
   "execution_count": 13,
   "id": "31582ba4-aa73-45c7-b752-3e32b338985e",
   "metadata": {
    "tags": []
   },
   "outputs": [],
   "source": [
    "\n",
    "root_path = '/home/ec2-user/SageMaker'\n",
    "dataset_name = 'deepfashion'\n",
    "\n",
    "dataset_root = f'{root_path}/datasets/{dataset_name}'\n",
    "img_pairs_train = f'{dataset_root}/train_img_pairs.csv'\n",
    "img_pairs_test = f'{dataset_root}/test_img_pairs.csv'\n",
    "\n",
    "img_pairs_train1 = f'{dataset_root}/train_img_pairs1.csv'\n",
    "img_pairs_test1 = f'{dataset_root}/test_img_pairs1.csv'"
   ]
  },
  {
   "cell_type": "code",
   "execution_count": 14,
   "id": "55cb2391-6657-46eb-8fdb-054ad93857ec",
   "metadata": {
    "tags": []
   },
   "outputs": [],
   "source": [
    "\n",
    "\n",
    "def get_csv_path(strn):\n",
    "    if strn == 'tn':\n",
    "        return img_pairs_train\n",
    "    else:\n",
    "        return img_pairs_test\n",
    "\n",
    "def path_replace(root1, label, file):\n",
    "    label_src_root = root1.replace('img', label)\n",
    "    return os.path.join(label_src_root,file)\n",
    "\n",
    "def get_rel_path(root_path, idx_name): \n",
    "    # src = path_replace(root_path, idx_name, file)  \n",
    "    path = Path(root_path)\n",
    "    index = path.parts.index(idx_name)\n",
    "    return  \"/\".join(path.parts[index:])\n",
    "\n",
    "\n",
    "\n",
    "# Delete images in the img folder if its not in img_seg floder\n",
    "def get_img_list():\n",
    "    out_root = root_path + '/datasets/deepfashion/img_seg'\n",
    "    available_img_list = []\n",
    "    for (root,dirs,files) in os.walk(out_root, topdown=True):\n",
    "            for file in files:\n",
    "                file = file.replace('png', 'jpg')\n",
    "                out_path = os.path.join(root, file)\n",
    "                # out_path=str(PurePosixPath(PureWindowsPath(out_path)))\n",
    "                # out_path =out_path.replace('D:\\/', 'D:/')\n",
    "                img_root=get_rel_path(out_path,'img_seg')\n",
    "                img_root = img_root.replace('img_seg', 'img')\n",
    "                available_img_list.append(img_root)\n",
    "    return  available_img_list\n"
   ]
  },
  {
   "cell_type": "code",
   "execution_count": 15,
   "id": "66661e59-4f9f-4c8c-a292-878cbd91874a",
   "metadata": {
    "tags": []
   },
   "outputs": [
    {
     "data": {
      "text/plain": [
       "False"
      ]
     },
     "execution_count": 15,
     "metadata": {},
     "output_type": "execute_result"
    }
   ],
   "source": [
    "im1 ='img_seg/WOMEN/Tees_Tanks/id_00000890/04_4_full.png'\n",
    "\n",
    "im1 in get_img_list()"
   ]
  },
  {
   "cell_type": "code",
   "execution_count": 22,
   "id": "d8c4ae2c-08d8-4b5e-b90b-490cffba09a5",
   "metadata": {
    "tags": []
   },
   "outputs": [
    {
     "data": {
      "text/html": [
       "<div>\n",
       "<style scoped>\n",
       "    .dataframe tbody tr th:only-of-type {\n",
       "        vertical-align: middle;\n",
       "    }\n",
       "\n",
       "    .dataframe tbody tr th {\n",
       "        vertical-align: top;\n",
       "    }\n",
       "\n",
       "    .dataframe thead th {\n",
       "        text-align: right;\n",
       "    }\n",
       "</style>\n",
       "<table border=\"1\" class=\"dataframe\">\n",
       "  <thead>\n",
       "    <tr style=\"text-align: right;\">\n",
       "      <th></th>\n",
       "      <th>imgA</th>\n",
       "      <th>imgB</th>\n",
       "      <th>imgA_seg</th>\n",
       "      <th>imgB_seg</th>\n",
       "    </tr>\n",
       "  </thead>\n",
       "  <tbody>\n",
       "    <tr>\n",
       "      <th>0</th>\n",
       "      <td>img/MEN/Tees_Tanks/id_00004047/01_7_additional...</td>\n",
       "      <td>img/MEN/Tees_Tanks/id_00004047/01_1_front.jpg</td>\n",
       "      <td>img_seg/MEN/Tees_Tanks/id_00004047/01_7_additi...</td>\n",
       "      <td>img_seg/MEN/Tees_Tanks/id_00004047/01_1_front.png</td>\n",
       "    </tr>\n",
       "    <tr>\n",
       "      <th>1</th>\n",
       "      <td>img/MEN/Tees_Tanks/id_00004047/01_7_additional...</td>\n",
       "      <td>img/MEN/Tees_Tanks/id_00004047/01_4_full.jpg</td>\n",
       "      <td>img_seg/MEN/Tees_Tanks/id_00004047/01_7_additi...</td>\n",
       "      <td>img_seg/MEN/Tees_Tanks/id_00004047/01_4_full.png</td>\n",
       "    </tr>\n",
       "    <tr>\n",
       "      <th>2</th>\n",
       "      <td>img/MEN/Tees_Tanks/id_00004047/01_7_additional...</td>\n",
       "      <td>img/MEN/Tees_Tanks/id_00004047/01_2_side.jpg</td>\n",
       "      <td>img_seg/MEN/Tees_Tanks/id_00004047/01_7_additi...</td>\n",
       "      <td>img_seg/MEN/Tees_Tanks/id_00004047/01_2_side.png</td>\n",
       "    </tr>\n",
       "    <tr>\n",
       "      <th>3</th>\n",
       "      <td>img/MEN/Tees_Tanks/id_00004047/01_7_additional...</td>\n",
       "      <td>img/MEN/Tees_Tanks/id_00004047/01_3_back.jpg</td>\n",
       "      <td>img_seg/MEN/Tees_Tanks/id_00004047/01_7_additi...</td>\n",
       "      <td>img_seg/MEN/Tees_Tanks/id_00004047/01_3_back.png</td>\n",
       "    </tr>\n",
       "    <tr>\n",
       "      <th>4</th>\n",
       "      <td>img/MEN/Tees_Tanks/id_00004047/01_1_front.jpg</td>\n",
       "      <td>img/MEN/Tees_Tanks/id_00004047/01_7_additional...</td>\n",
       "      <td>img_seg/MEN/Tees_Tanks/id_00004047/01_1_front.png</td>\n",
       "      <td>img_seg/MEN/Tees_Tanks/id_00004047/01_7_additi...</td>\n",
       "    </tr>\n",
       "    <tr>\n",
       "      <th>...</th>\n",
       "      <td>...</td>\n",
       "      <td>...</td>\n",
       "      <td>...</td>\n",
       "      <td>...</td>\n",
       "    </tr>\n",
       "    <tr>\n",
       "      <th>101947</th>\n",
       "      <td>img/WOMEN/Blouses_Shirts/id_00003016/01_3_back...</td>\n",
       "      <td>img/WOMEN/Blouses_Shirts/id_00003016/01_1_fron...</td>\n",
       "      <td>img_seg/WOMEN/Blouses_Shirts/id_00003016/01_3_...</td>\n",
       "      <td>img_seg/WOMEN/Blouses_Shirts/id_00003016/01_1_...</td>\n",
       "    </tr>\n",
       "    <tr>\n",
       "      <th>101948</th>\n",
       "      <td>img/WOMEN/Blouses_Shirts/id_00003016/01_3_back...</td>\n",
       "      <td>img/WOMEN/Blouses_Shirts/id_00003016/01_7_addi...</td>\n",
       "      <td>img_seg/WOMEN/Blouses_Shirts/id_00003016/01_3_...</td>\n",
       "      <td>img_seg/WOMEN/Blouses_Shirts/id_00003016/01_7_...</td>\n",
       "    </tr>\n",
       "    <tr>\n",
       "      <th>101949</th>\n",
       "      <td>img/WOMEN/Blouses_Shirts/id_00003016/01_7_addi...</td>\n",
       "      <td>img/WOMEN/Blouses_Shirts/id_00003016/01_2_side...</td>\n",
       "      <td>img_seg/WOMEN/Blouses_Shirts/id_00003016/01_7_...</td>\n",
       "      <td>img_seg/WOMEN/Blouses_Shirts/id_00003016/01_2_...</td>\n",
       "    </tr>\n",
       "    <tr>\n",
       "      <th>101950</th>\n",
       "      <td>img/WOMEN/Blouses_Shirts/id_00003016/01_7_addi...</td>\n",
       "      <td>img/WOMEN/Blouses_Shirts/id_00003016/01_1_fron...</td>\n",
       "      <td>img_seg/WOMEN/Blouses_Shirts/id_00003016/01_7_...</td>\n",
       "      <td>img_seg/WOMEN/Blouses_Shirts/id_00003016/01_1_...</td>\n",
       "    </tr>\n",
       "    <tr>\n",
       "      <th>101951</th>\n",
       "      <td>img/WOMEN/Blouses_Shirts/id_00003016/01_7_addi...</td>\n",
       "      <td>img/WOMEN/Blouses_Shirts/id_00003016/01_3_back...</td>\n",
       "      <td>img_seg/WOMEN/Blouses_Shirts/id_00003016/01_7_...</td>\n",
       "      <td>img_seg/WOMEN/Blouses_Shirts/id_00003016/01_3_...</td>\n",
       "    </tr>\n",
       "  </tbody>\n",
       "</table>\n",
       "<p>37354 rows × 4 columns</p>\n",
       "</div>"
      ],
      "text/plain": [
       "                                                     imgA  \\\n",
       "0       img/MEN/Tees_Tanks/id_00004047/01_7_additional...   \n",
       "1       img/MEN/Tees_Tanks/id_00004047/01_7_additional...   \n",
       "2       img/MEN/Tees_Tanks/id_00004047/01_7_additional...   \n",
       "3       img/MEN/Tees_Tanks/id_00004047/01_7_additional...   \n",
       "4           img/MEN/Tees_Tanks/id_00004047/01_1_front.jpg   \n",
       "...                                                   ...   \n",
       "101947  img/WOMEN/Blouses_Shirts/id_00003016/01_3_back...   \n",
       "101948  img/WOMEN/Blouses_Shirts/id_00003016/01_3_back...   \n",
       "101949  img/WOMEN/Blouses_Shirts/id_00003016/01_7_addi...   \n",
       "101950  img/WOMEN/Blouses_Shirts/id_00003016/01_7_addi...   \n",
       "101951  img/WOMEN/Blouses_Shirts/id_00003016/01_7_addi...   \n",
       "\n",
       "                                                     imgB  \\\n",
       "0           img/MEN/Tees_Tanks/id_00004047/01_1_front.jpg   \n",
       "1            img/MEN/Tees_Tanks/id_00004047/01_4_full.jpg   \n",
       "2            img/MEN/Tees_Tanks/id_00004047/01_2_side.jpg   \n",
       "3            img/MEN/Tees_Tanks/id_00004047/01_3_back.jpg   \n",
       "4       img/MEN/Tees_Tanks/id_00004047/01_7_additional...   \n",
       "...                                                   ...   \n",
       "101947  img/WOMEN/Blouses_Shirts/id_00003016/01_1_fron...   \n",
       "101948  img/WOMEN/Blouses_Shirts/id_00003016/01_7_addi...   \n",
       "101949  img/WOMEN/Blouses_Shirts/id_00003016/01_2_side...   \n",
       "101950  img/WOMEN/Blouses_Shirts/id_00003016/01_1_fron...   \n",
       "101951  img/WOMEN/Blouses_Shirts/id_00003016/01_3_back...   \n",
       "\n",
       "                                                 imgA_seg  \\\n",
       "0       img_seg/MEN/Tees_Tanks/id_00004047/01_7_additi...   \n",
       "1       img_seg/MEN/Tees_Tanks/id_00004047/01_7_additi...   \n",
       "2       img_seg/MEN/Tees_Tanks/id_00004047/01_7_additi...   \n",
       "3       img_seg/MEN/Tees_Tanks/id_00004047/01_7_additi...   \n",
       "4       img_seg/MEN/Tees_Tanks/id_00004047/01_1_front.png   \n",
       "...                                                   ...   \n",
       "101947  img_seg/WOMEN/Blouses_Shirts/id_00003016/01_3_...   \n",
       "101948  img_seg/WOMEN/Blouses_Shirts/id_00003016/01_3_...   \n",
       "101949  img_seg/WOMEN/Blouses_Shirts/id_00003016/01_7_...   \n",
       "101950  img_seg/WOMEN/Blouses_Shirts/id_00003016/01_7_...   \n",
       "101951  img_seg/WOMEN/Blouses_Shirts/id_00003016/01_7_...   \n",
       "\n",
       "                                                 imgB_seg  \n",
       "0       img_seg/MEN/Tees_Tanks/id_00004047/01_1_front.png  \n",
       "1        img_seg/MEN/Tees_Tanks/id_00004047/01_4_full.png  \n",
       "2        img_seg/MEN/Tees_Tanks/id_00004047/01_2_side.png  \n",
       "3        img_seg/MEN/Tees_Tanks/id_00004047/01_3_back.png  \n",
       "4       img_seg/MEN/Tees_Tanks/id_00004047/01_7_additi...  \n",
       "...                                                   ...  \n",
       "101947  img_seg/WOMEN/Blouses_Shirts/id_00003016/01_1_...  \n",
       "101948  img_seg/WOMEN/Blouses_Shirts/id_00003016/01_7_...  \n",
       "101949  img_seg/WOMEN/Blouses_Shirts/id_00003016/01_2_...  \n",
       "101950  img_seg/WOMEN/Blouses_Shirts/id_00003016/01_1_...  \n",
       "101951  img_seg/WOMEN/Blouses_Shirts/id_00003016/01_3_...  \n",
       "\n",
       "[37354 rows x 4 columns]"
      ]
     },
     "execution_count": 22,
     "metadata": {},
     "output_type": "execute_result"
    }
   ],
   "source": [
    "available_img_list = get_img_list()\n",
    "\n",
    "img_train_df = pd.read_csv(get_csv_path('tn'))\n",
    "img_train_df['imgA_check'] = img_train_df['imgA'].apply(lambda x: x in available_img_list)\n",
    "img_train_df['imgB_check'] = img_train_df['imgB'].apply(lambda x: x in available_img_list)\n",
    "\n",
    "df = img_train_df[(img_train_df['imgA_check']==True) & (img_train_df['imgB_check']==True) ][['imgA','imgB']]\n",
    "\n",
    "def convert_path(x):\n",
    "    x = x.replace('jpg', 'png')\n",
    "    x = x.replace('img', 'img_seg')\n",
    "    return x\n",
    "\n",
    "df['imgA_seg'] = df['imgA'].apply(convert_path)\n",
    "df['imgB_seg'] = df['imgB'].apply(convert_path)\n",
    "\n",
    "df\n",
    "\n"
   ]
  },
  {
   "cell_type": "code",
   "execution_count": 23,
   "id": "ce3d1e0d-9c8c-472b-b75e-92ff63201170",
   "metadata": {
    "tags": []
   },
   "outputs": [
    {
     "data": {
      "text/plain": [
       "(False, False)"
      ]
     },
     "execution_count": 23,
     "metadata": {},
     "output_type": "execute_result"
    }
   ],
   "source": [
    "im1 in df['imgA_seg'],im1 in df['imgB_seg']"
   ]
  },
  {
   "cell_type": "code",
   "execution_count": 24,
   "id": "e3171d0f-ef57-41da-888c-2f140ad8d8c2",
   "metadata": {
    "tags": []
   },
   "outputs": [],
   "source": [
    "df.to_csv(img_pairs_train1)"
   ]
  },
  {
   "cell_type": "code",
   "execution_count": null,
   "id": "a485fad8-be8f-4564-9a27-838335b23a4b",
   "metadata": {},
   "outputs": [],
   "source": []
  }
 ],
 "metadata": {
  "kernelspec": {
   "display_name": "conda_amazonei_pytorch_latest_p37",
   "language": "python",
   "name": "conda_amazonei_pytorch_latest_p37"
  },
  "language_info": {
   "codemirror_mode": {
    "name": "ipython",
    "version": 3
   },
   "file_extension": ".py",
   "mimetype": "text/x-python",
   "name": "python",
   "nbconvert_exporter": "python",
   "pygments_lexer": "ipython3",
   "version": "3.7.10"
  }
 },
 "nbformat": 4,
 "nbformat_minor": 5
}
